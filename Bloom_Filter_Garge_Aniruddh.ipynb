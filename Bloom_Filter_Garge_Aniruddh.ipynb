{
 "cells": [
  {
   "cell_type": "code",
   "execution_count": 15,
   "metadata": {},
   "outputs": [],
   "source": [
    "#!pip install bloom_filter\n",
    "from bloom_filter import BloomFilter\n",
    "import numpy as np"
   ]
  },
  {
   "cell_type": "code",
   "execution_count": 16,
   "metadata": {},
   "outputs": [],
   "source": [
    "# Reading the files\n",
    "\n",
    "file_30 = \"listed_username_30.txt\"\n",
    "file_365 = \"listed_username_365.txt\""
   ]
  },
  {
   "cell_type": "code",
   "execution_count": 19,
   "metadata": {},
   "outputs": [],
   "source": [
    "with open(file_30,encoding=\"utf8\") as f:\n",
    "    content_30 = f.readlines()\n",
    "    \n",
    "content_30 = [x.strip('\\n') for x in content_30]\n",
    "\n",
    "with open(file_365,encoding=\"utf8\") as f:\n",
    "    content_365 = f.readlines()\n",
    "    \n",
    "content_365 = [x.strip('\\n') for x in content_365]"
   ]
  },
  {
   "cell_type": "code",
   "execution_count": 36,
   "metadata": {},
   "outputs": [],
   "source": [
    "B_filter = BloomFilter(max_elements = len(content_30), error_rate = 0.05)\n",
    "\n",
    "for name in content_30:\n",
    "    B_filter.add(name)\n",
    "    \n",
    "k = np.ceil((B_filter.num_bits_m/len(content_30))*np.log(2))"
   ]
  },
  {
   "cell_type": "code",
   "execution_count": 37,
   "metadata": {},
   "outputs": [],
   "source": [
    "spam=[]\n",
    "\n",
    "for name in content_365:\n",
    "    if name in B_filter:\n",
    "        spam.append(name)"
   ]
  },
  {
   "cell_type": "code",
   "execution_count": 38,
   "metadata": {},
   "outputs": [],
   "source": [
    "false_positive = len(set(spam)) - len(list(set(content_30).intersection(spam)))\n",
    "true_negative = len(content_365) - len(spam)\n",
    "false_positive_rate = false_positive / (true_negative + false_positive)"
   ]
  },
  {
   "cell_type": "code",
   "execution_count": 39,
   "metadata": {},
   "outputs": [
    {
     "name": "stdout",
     "output_type": "stream",
     "text": [
      "Optimal k for n = 1421894 is 5.0\n",
      "False positive rate is 0.0510\n"
     ]
    }
   ],
   "source": [
    "print('Optimal k for n = {0} is {1}'.format(B_filter.num_bits_m, k))\n",
    "print('False positive rate is {0:0.4f}'.format(false_positive_rate))"
   ]
  },
  {
   "cell_type": "code",
   "execution_count": null,
   "metadata": {},
   "outputs": [],
   "source": []
  }
 ],
 "metadata": {
  "kernelspec": {
   "display_name": "Python 3",
   "language": "python",
   "name": "python3"
  },
  "language_info": {
   "codemirror_mode": {
    "name": "ipython",
    "version": 3
   },
   "file_extension": ".py",
   "mimetype": "text/x-python",
   "name": "python",
   "nbconvert_exporter": "python",
   "pygments_lexer": "ipython3",
   "version": "3.7.1"
  }
 },
 "nbformat": 4,
 "nbformat_minor": 2
}
