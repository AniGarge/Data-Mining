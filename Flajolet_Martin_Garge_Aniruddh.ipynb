{
 "cells": [
  {
   "cell_type": "code",
   "execution_count": 1,
   "metadata": {},
   "outputs": [],
   "source": [
    "import hashlib"
   ]
  },
  {
   "cell_type": "code",
   "execution_count": 2,
   "metadata": {},
   "outputs": [],
   "source": [
    "files= ['quotes_2008-08.txt','quotes_2008-09.txt','quotes_2008-10.txt','quotes_2008-11.txt','quotes_2008-12.txt','quotes_2009-01.txt','quotes_2009-02.txt','quotes_2009-03.txt','quotes_2009-04.txt']\n",
    "tails=0"
   ]
  },
  {
   "cell_type": "code",
   "execution_count": 3,
   "metadata": {},
   "outputs": [],
   "source": [
    "for f in files:\n",
    "    with open (f,'r',encoding='utf8') as in_file:\n",
    "        for l in in_file:\n",
    "            if(l[0]=='Q'):\n",
    "                initial_hash=hash(l)\n",
    "                binary_hash=bin(initial_hash)\n",
    "                current_tail = (len(binary_hash) - len(binary_hash.rstrip('0')))\n",
    "                if  current_tail > tails :\n",
    "                    tails = current_tail"
   ]
  },
  {
   "cell_type": "code",
   "execution_count": 7,
   "metadata": {},
   "outputs": [
    {
     "name": "stdout",
     "output_type": "stream",
     "text": [
      "The number of distinct elements:  134217728\n"
     ]
    }
   ],
   "source": [
    "distinct = 2**tails\n",
    "print(\"The number of distinct elements:\",distinct)"
   ]
  }
 ],
 "metadata": {
  "kernelspec": {
   "display_name": "Python 3",
   "language": "python",
   "name": "python3"
  },
  "language_info": {
   "codemirror_mode": {
    "name": "ipython",
    "version": 3
   },
   "file_extension": ".py",
   "mimetype": "text/x-python",
   "name": "python",
   "nbconvert_exporter": "python",
   "pygments_lexer": "ipython3",
   "version": "3.7.1"
  }
 },
 "nbformat": 4,
 "nbformat_minor": 2
}
